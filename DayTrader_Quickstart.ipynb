{
  "nbformat": 4,
  "nbformat_minor": 0,
  "metadata": {
    "colab": {
      "name": "DayTrader_Quickstart.ipynb",
      "provenance": [],
      "collapsed_sections": []
    },
    "kernelspec": {
      "name": "python3",
      "display_name": "Python 3"
    }
  },
  "cells": [
    {
      "cell_type": "markdown",
      "metadata": {
        "id": "I2fVWD3a4P7I",
        "colab_type": "text"
      },
      "source": [
        "# DayTrader Quickstart\n",
        "Welcome!  By the end of this quickstart, you should be up and running, training your own models to trade in the stock market.  To do this, we will\n",
        "1. Make available the files we will train on\n",
        "2. Split and normalize the data into training and testing sets\n",
        "3. Train\n",
        "4. Evaluate"
      ]
    },
    {
      "cell_type": "markdown",
      "metadata": {
        "id": "WbPKXZ4HM9kn",
        "colab_type": "text"
      },
      "source": [
        "## Part 1: Accessing the Files\n",
        "To get started, go to [this link](https://drive.google.com/drive/folders/1_Yz8-ZyOjmCRRXeCSrmUVFpn0mfxneUf?usp=sharing), right click on the `daytrader` folder button, and click `Add to My Drive`.  When you've done that, we will log into your google drive to access the files.  \n",
        "\n",
        "Note: logging in will give this program **write** access to your google drive.  The only writing this program will be doing is to create a folder called `daytrader_checkpts` where training checkpoints and saved models will be stored.  After running the next two cells, all the code for this quickstart will be contained within your \"Files\" directory (on the left hand side of the screen) in `data_loader.py`, `model.py`, and `utils.py` if you want to double check for yourself. \n",
        "\n",
        "As a broad note - sometimes Google Drive times out, so you may have to stop and rerun a cell now and again if you don't see a loading bar after a 15 or 20 seconds."
      ]
    },
    {
      "cell_type": "code",
      "metadata": {
        "id": "fmJ2snhqx1YD",
        "colab_type": "code",
        "outputId": "69fc052e-dbd7-4c5a-a57d-94d61f3737f3",
        "colab": {
          "base_uri": "https://localhost:8080/",
          "height": 33
        }
      },
      "source": [
        "from google.colab import drive\n",
        "drive.mount('/content/drive', force_remount=True)"
      ],
      "execution_count": 0,
      "outputs": [
        {
          "output_type": "stream",
          "text": [
            "Mounted at /content/drive\n"
          ],
          "name": "stdout"
        }
      ]
    },
    {
      "cell_type": "code",
      "metadata": {
        "id": "scJnFeHvyToV",
        "colab_type": "code",
        "colab": {}
      },
      "source": [
        "# copy python files into local dir\n",
        "from shutil import copyfile\n",
        "base_path = '/content/drive/My Drive/daytrader/'\n",
        "files = ['data_loader.py', 'model_file.py', 'utils.py']\n",
        "for file_name in files:\n",
        "  copyfile(f'{base_path}{file_name}', f'./{file_name}')\n",
        "\n",
        "# import files\n",
        "%tensorflow_version 2.x\n",
        "from data_loader import *\n",
        "from model_file import *\n",
        "from utils import *\n",
        "\n",
        "# initialize path locations\n",
        "periods = [4, 5, 6, 8, 12, 14, 20, 50]\n",
        "prices_path = f'{base_path}huge_stock_csvs/'\n",
        "indicators_path = get_indicators_path(base_path, periods)\n",
        "checkpts_path = f'/content/drive/My Drive/daytrader_checkpts/checkpts/'\n",
        "models_path = f'/content/drive/My Drive/daytrader_checkpts/models/'"
      ],
      "execution_count": 0,
      "outputs": []
    },
    {
      "cell_type": "markdown",
      "metadata": {
        "id": "29HWOiOkOfBU",
        "colab_type": "text"
      },
      "source": [
        "## Part 2: Wrangling the Data\n",
        "Now, let's take a look at the indicators themselves.  Each row contains a date, some standard information about the stock at that date (open, high, low, close, and volume) and [indicators](https://www.investopedia.com/terms/t/technicalindicator.asp) calculated at that date for each period in `periods`, listed above.\n",
        "\n",
        "For example, [sma_4](https://www.alphavantage.co/documentation/#sma), is a \"simple moving average\" calculated over the last four periods.  For some time t, this corresponds to `mean(close[t-3], close[t-2], close[t-1], close[t])`.\n",
        "\n",
        "If you think this looks intimidating, and like way more data than we need, you're right!  You'll probably only be using subsets of this data in training your models - we'll get to that in a few cells."
      ]
    },
    {
      "cell_type": "code",
      "metadata": {
        "id": "p-mQcHF3z-wU",
        "colab_type": "code",
        "outputId": "c05b24c1-f865-48c2-9860-cab6336a0247",
        "colab": {
          "base_uri": "https://localhost:8080/",
          "height": 279
        }
      },
      "source": [
        "sym_subset=['TSLA', 'AMZN', 'AAPL'] # sym_subset defaults to [], which pulls all symbols from prices_path - this can be very computationally expensive\n",
        "dfs = load_indicators(indicators_path, periods, sym_subset=sym_subset, predict_today=False)\n",
        "dfs[0].head(3)"
      ],
      "execution_count": 0,
      "outputs": [
        {
          "output_type": "stream",
          "text": [
            "\n",
            "Loading indicator dataframes...\n",
            "3/3 [==============================] - 13s 4s/step\n"
          ],
          "name": "stdout"
        },
        {
          "output_type": "execute_result",
          "data": {
            "text/html": [
              "<div>\n",
              "<style scoped>\n",
              "    .dataframe tbody tr th:only-of-type {\n",
              "        vertical-align: middle;\n",
              "    }\n",
              "\n",
              "    .dataframe tbody tr th {\n",
              "        vertical-align: top;\n",
              "    }\n",
              "\n",
              "    .dataframe thead th {\n",
              "        text-align: right;\n",
              "    }\n",
              "</style>\n",
              "<table border=\"1\" class=\"dataframe\">\n",
              "  <thead>\n",
              "    <tr style=\"text-align: right;\">\n",
              "      <th></th>\n",
              "      <th>date</th>\n",
              "      <th>open</th>\n",
              "      <th>high</th>\n",
              "      <th>low</th>\n",
              "      <th>close</th>\n",
              "      <th>volume</th>\n",
              "      <th>sma_4</th>\n",
              "      <th>ema_4</th>\n",
              "      <th>wma_4</th>\n",
              "      <th>bbands_high_4</th>\n",
              "      <th>bbands_low_4</th>\n",
              "      <th>per_b_high_4</th>\n",
              "      <th>per_b_low_4</th>\n",
              "      <th>trima_4</th>\n",
              "      <th>rsi_4</th>\n",
              "      <th>willr_4</th>\n",
              "      <th>atr_4</th>\n",
              "      <th>plus_di_4</th>\n",
              "      <th>minus_di_4</th>\n",
              "      <th>dx_4</th>\n",
              "      <th>adx_4</th>\n",
              "      <th>roc_4</th>\n",
              "      <th>macd_4</th>\n",
              "      <th>macd_histogram_4</th>\n",
              "      <th>cci_4</th>\n",
              "      <th>aroon_osc_4</th>\n",
              "      <th>chaikin_osc_4</th>\n",
              "      <th>chaikin_mf_4</th>\n",
              "      <th>stoch_per_k_4</th>\n",
              "      <th>stoch_per_d_4</th>\n",
              "      <th>sma_5</th>\n",
              "      <th>ema_5</th>\n",
              "      <th>wma_5</th>\n",
              "      <th>bbands_high_5</th>\n",
              "      <th>bbands_low_5</th>\n",
              "      <th>per_b_high_5</th>\n",
              "      <th>per_b_low_5</th>\n",
              "      <th>trima_5</th>\n",
              "      <th>rsi_5</th>\n",
              "      <th>willr_5</th>\n",
              "      <th>...</th>\n",
              "      <th>macd_histogram_20</th>\n",
              "      <th>cci_20</th>\n",
              "      <th>aroon_osc_20</th>\n",
              "      <th>chaikin_osc_20</th>\n",
              "      <th>chaikin_mf_20</th>\n",
              "      <th>stoch_per_k_20</th>\n",
              "      <th>stoch_per_d_20</th>\n",
              "      <th>sma_50</th>\n",
              "      <th>ema_50</th>\n",
              "      <th>wma_50</th>\n",
              "      <th>bbands_high_50</th>\n",
              "      <th>bbands_low_50</th>\n",
              "      <th>per_b_high_50</th>\n",
              "      <th>per_b_low_50</th>\n",
              "      <th>trima_50</th>\n",
              "      <th>rsi_50</th>\n",
              "      <th>willr_50</th>\n",
              "      <th>atr_50</th>\n",
              "      <th>plus_di_50</th>\n",
              "      <th>minus_di_50</th>\n",
              "      <th>dx_50</th>\n",
              "      <th>adx_50</th>\n",
              "      <th>roc_50</th>\n",
              "      <th>macd_50</th>\n",
              "      <th>macd_histogram_50</th>\n",
              "      <th>cci_50</th>\n",
              "      <th>aroon_osc_50</th>\n",
              "      <th>chaikin_osc_50</th>\n",
              "      <th>chaikin_mf_50</th>\n",
              "      <th>stoch_per_k_50</th>\n",
              "      <th>stoch_per_d_50</th>\n",
              "      <th>trange</th>\n",
              "      <th>obv</th>\n",
              "      <th>adl</th>\n",
              "      <th>ichi_dist_day</th>\n",
              "      <th>ichi_dist_week</th>\n",
              "      <th>ichi_dist_month</th>\n",
              "      <th>label</th>\n",
              "      <th>weight</th>\n",
              "      <th>return</th>\n",
              "    </tr>\n",
              "  </thead>\n",
              "  <tbody>\n",
              "    <tr>\n",
              "      <th>51</th>\n",
              "      <td>2010-09-09</td>\n",
              "      <td>21.00</td>\n",
              "      <td>21.05</td>\n",
              "      <td>20.69</td>\n",
              "      <td>20.71</td>\n",
              "      <td>376197</td>\n",
              "      <td>20.799999</td>\n",
              "      <td>20.720529</td>\n",
              "      <td>20.767</td>\n",
              "      <td>21.184966</td>\n",
              "      <td>20.415033</td>\n",
              "      <td>2.467574</td>\n",
              "      <td>1.532426</td>\n",
              "      <td>20.773333</td>\n",
              "      <td>56.577048</td>\n",
              "      <td>66.666916</td>\n",
              "      <td>0.584196</td>\n",
              "      <td>27.100794</td>\n",
              "      <td>8.015132</td>\n",
              "      <td>54.350443</td>\n",
              "      <td>50.309800</td>\n",
              "      <td>-1.661920</td>\n",
              "      <td>0.833370</td>\n",
              "      <td>-0.067050</td>\n",
              "      <td>-17.338960</td>\n",
              "      <td>-50.0</td>\n",
              "      <td>128635.751447</td>\n",
              "      <td>-0.179656</td>\n",
              "      <td>26.249911</td>\n",
              "      <td>47.046695</td>\n",
              "      <td>20.852001</td>\n",
              "      <td>20.677071</td>\n",
              "      <td>20.795333</td>\n",
              "      <td>21.254274</td>\n",
              "      <td>20.449729</td>\n",
              "      <td>2.705999</td>\n",
              "      <td>1.294001</td>\n",
              "      <td>20.810000</td>\n",
              "      <td>58.353268</td>\n",
              "      <td>67.307953</td>\n",
              "      <td>...</td>\n",
              "      <td>-0.439762</td>\n",
              "      <td>-17.338960</td>\n",
              "      <td>75.0</td>\n",
              "      <td>127797.953913</td>\n",
              "      <td>0.160173</td>\n",
              "      <td>84.910481</td>\n",
              "      <td>85.081005</td>\n",
              "      <td>19.770000</td>\n",
              "      <td>0.676517</td>\n",
              "      <td>19.875255</td>\n",
              "      <td>22.806288</td>\n",
              "      <td>16.733713</td>\n",
              "      <td>1.380824</td>\n",
              "      <td>2.619176</td>\n",
              "      <td>19.807739</td>\n",
              "      <td>54.511532</td>\n",
              "      <td>38.854308</td>\n",
              "      <td>1.504048</td>\n",
              "      <td>0.132972</td>\n",
              "      <td>0.000000</td>\n",
              "      <td>100.000000</td>\n",
              "      <td>0.000000</td>\n",
              "      <td>-13.311010</td>\n",
              "      <td>3.080682</td>\n",
              "      <td>2.825024</td>\n",
              "      <td>-17.338960</td>\n",
              "      <td>-10.0</td>\n",
              "      <td>-20005.390302</td>\n",
              "      <td>-0.001295</td>\n",
              "      <td>37.111395</td>\n",
              "      <td>24.817788</td>\n",
              "      <td>0.359999</td>\n",
              "      <td>-5099345.0</td>\n",
              "      <td>-229861.195929</td>\n",
              "      <td>10.402498</td>\n",
              "      <td>20.709999</td>\n",
              "      <td>20.709999</td>\n",
              "      <td>0.0</td>\n",
              "      <td>0.026074</td>\n",
              "      <td>0.973926</td>\n",
              "    </tr>\n",
              "    <tr>\n",
              "      <th>52</th>\n",
              "      <td>2010-09-10</td>\n",
              "      <td>20.75</td>\n",
              "      <td>20.93</td>\n",
              "      <td>19.76</td>\n",
              "      <td>20.17</td>\n",
              "      <td>385689</td>\n",
              "      <td>20.580000</td>\n",
              "      <td>20.500318</td>\n",
              "      <td>20.515</td>\n",
              "      <td>21.117587</td>\n",
              "      <td>20.042413</td>\n",
              "      <td>3.525335</td>\n",
              "      <td>0.474665</td>\n",
              "      <td>20.655000</td>\n",
              "      <td>37.615057</td>\n",
              "      <td>100.000000</td>\n",
              "      <td>0.730647</td>\n",
              "      <td>16.251527</td>\n",
              "      <td>36.627560</td>\n",
              "      <td>38.533254</td>\n",
              "      <td>47.365663</td>\n",
              "      <td>-4.180519</td>\n",
              "      <td>0.760436</td>\n",
              "      <td>-0.111987</td>\n",
              "      <td>-152.387972</td>\n",
              "      <td>-100.0</td>\n",
              "      <td>29549.243533</td>\n",
              "      <td>-0.346468</td>\n",
              "      <td>31.782958</td>\n",
              "      <td>39.209619</td>\n",
              "      <td>20.674000</td>\n",
              "      <td>20.508048</td>\n",
              "      <td>20.568000</td>\n",
              "      <td>21.284389</td>\n",
              "      <td>20.063610</td>\n",
              "      <td>3.651404</td>\n",
              "      <td>0.348596</td>\n",
              "      <td>20.713333</td>\n",
              "      <td>42.931217</td>\n",
              "      <td>100.000000</td>\n",
              "      <td>...</td>\n",
              "      <td>-0.472667</td>\n",
              "      <td>-152.387972</td>\n",
              "      <td>75.0</td>\n",
              "      <td>28863.772819</td>\n",
              "      <td>0.165866</td>\n",
              "      <td>68.956062</td>\n",
              "      <td>81.212125</td>\n",
              "      <td>19.696800</td>\n",
              "      <td>1.440967</td>\n",
              "      <td>19.890941</td>\n",
              "      <td>22.506021</td>\n",
              "      <td>16.887580</td>\n",
              "      <td>1.663109</td>\n",
              "      <td>2.336891</td>\n",
              "      <td>19.793677</td>\n",
              "      <td>53.775395</td>\n",
              "      <td>29.058431</td>\n",
              "      <td>1.497367</td>\n",
              "      <td>0.130894</td>\n",
              "      <td>1.242181</td>\n",
              "      <td>80.934121</td>\n",
              "      <td>50.000000</td>\n",
              "      <td>-15.358791</td>\n",
              "      <td>4.047398</td>\n",
              "      <td>3.033392</td>\n",
              "      <td>-152.387972</td>\n",
              "      <td>-8.0</td>\n",
              "      <td>-89893.801938</td>\n",
              "      <td>-0.002960</td>\n",
              "      <td>47.440588</td>\n",
              "      <td>40.964650</td>\n",
              "      <td>1.170000</td>\n",
              "      <td>-5485034.0</td>\n",
              "      <td>-345238.367804</td>\n",
              "      <td>0.000000</td>\n",
              "      <td>20.170000</td>\n",
              "      <td>20.170000</td>\n",
              "      <td>1.0</td>\n",
              "      <td>0.027268</td>\n",
              "      <td>1.027268</td>\n",
              "    </tr>\n",
              "    <tr>\n",
              "      <th>53</th>\n",
              "      <td>2010-09-13</td>\n",
              "      <td>20.89</td>\n",
              "      <td>20.90</td>\n",
              "      <td>20.50</td>\n",
              "      <td>20.72</td>\n",
              "      <td>360703</td>\n",
              "      <td>20.625000</td>\n",
              "      <td>20.588190</td>\n",
              "      <td>20.571</td>\n",
              "      <td>21.171717</td>\n",
              "      <td>20.078283</td>\n",
              "      <td>1.652473</td>\n",
              "      <td>2.347527</td>\n",
              "      <td>20.563333</td>\n",
              "      <td>57.128076</td>\n",
              "      <td>24.657592</td>\n",
              "      <td>0.730485</td>\n",
              "      <td>12.191346</td>\n",
              "      <td>27.476756</td>\n",
              "      <td>38.533254</td>\n",
              "      <td>45.157561</td>\n",
              "      <td>0.876331</td>\n",
              "      <td>0.738503</td>\n",
              "      <td>-0.107136</td>\n",
              "      <td>20.166282</td>\n",
              "      <td>-50.0</td>\n",
              "      <td>-2195.800487</td>\n",
              "      <td>-0.147220</td>\n",
              "      <td>74.418591</td>\n",
              "      <td>44.150487</td>\n",
              "      <td>20.608000</td>\n",
              "      <td>20.578698</td>\n",
              "      <td>20.583333</td>\n",
              "      <td>21.101704</td>\n",
              "      <td>20.114296</td>\n",
              "      <td>1.546289</td>\n",
              "      <td>2.453711</td>\n",
              "      <td>20.614444</td>\n",
              "      <td>57.299108</td>\n",
              "      <td>24.657592</td>\n",
              "      <td>...</td>\n",
              "      <td>-0.454485</td>\n",
              "      <td>20.166282</td>\n",
              "      <td>70.0</td>\n",
              "      <td>-2756.640165</td>\n",
              "      <td>0.129575</td>\n",
              "      <td>80.921049</td>\n",
              "      <td>78.262531</td>\n",
              "      <td>19.671999</td>\n",
              "      <td>2.197007</td>\n",
              "      <td>19.931067</td>\n",
              "      <td>22.422135</td>\n",
              "      <td>16.921863</td>\n",
              "      <td>1.237856</td>\n",
              "      <td>2.762144</td>\n",
              "      <td>19.786554</td>\n",
              "      <td>54.415179</td>\n",
              "      <td>20.000022</td>\n",
              "      <td>1.482020</td>\n",
              "      <td>0.129605</td>\n",
              "      <td>1.229943</td>\n",
              "      <td>80.934121</td>\n",
              "      <td>60.311374</td>\n",
              "      <td>-5.646629</td>\n",
              "      <td>4.802547</td>\n",
              "      <td>3.030833</td>\n",
              "      <td>20.166282</td>\n",
              "      <td>-6.0</td>\n",
              "      <td>-98835.711528</td>\n",
              "      <td>-0.002788</td>\n",
              "      <td>70.689645</td>\n",
              "      <td>51.747209</td>\n",
              "      <td>0.730000</td>\n",
              "      <td>-5124331.0</td>\n",
              "      <td>-309168.926398</td>\n",
              "      <td>0.325000</td>\n",
              "      <td>20.719999</td>\n",
              "      <td>20.719999</td>\n",
              "      <td>1.0</td>\n",
              "      <td>0.019305</td>\n",
              "      <td>1.019305</td>\n",
              "    </tr>\n",
              "  </tbody>\n",
              "</table>\n",
              "<p>3 rows × 207 columns</p>\n",
              "</div>"
            ],
            "text/plain": [
              "          date   open   high    low  ...  ichi_dist_month  label    weight    return\n",
              "51  2010-09-09  21.00  21.05  20.69  ...        20.709999    0.0  0.026074  0.973926\n",
              "52  2010-09-10  20.75  20.93  19.76  ...        20.170000    1.0  0.027268  1.027268\n",
              "53  2010-09-13  20.89  20.90  20.50  ...        20.719999    1.0  0.019305  1.019305\n",
              "\n",
              "[3 rows x 207 columns]"
            ]
          },
          "metadata": {
            "tags": []
          },
          "execution_count": 260
        }
      ]
    },
    {
      "cell_type": "markdown",
      "metadata": {
        "id": "bejyXgZXRCZc",
        "colab_type": "text"
      },
      "source": [
        "### The Indicators Dataframe\n",
        "\n",
        "The full list of indicators available to you is:\n",
        "\n",
        "```\n",
        "['sma', 'ema', 'wma', 'bbands_high', 'bbands_low', 'per_b_high', 'per_b_low', 'trima', 'rsi', 'willr', 'atr', 'trange', 'plus_di', 'minus_di', 'dx', 'adx', 'roc', 'macd',  'macd_histogram', 'cci', 'aroon_osc', 'adl', 'chaikin_osc', 'chaikin_mf', 'obv', 'stoch_per_k', 'stoch_per_d', 'ichi_dist_day', 'ichi_dist_week', 'ichi_dist_month', 'label', 'weight', 'return']\n",
        "```\n",
        "\n",
        "Most of these are detailed extensively online.  The only ones worth explaning are:\n",
        "* `per_b_{high|low}`: how far away the price is from the {high | low} [bollinger bands](https://www.investopedia.com/terms/b/bollingerbands.asp) line (divided by the standard deviation of the price over the last `period` days). This is useful because some traders sell when a price is close to the high band and buy when it is close to the low band.\n",
        "* `ichi_dist_{day|week|month}`: this calculates the [ichimoku cloud](https://www.investopedia.com/terms/i/ichimoku-cloud.asp), and returns the distance of the price from the cloud, calculated at different intervals (day | week | month).  Distance is 0 if the price is inside the cloud, positive if above, negative if below.\n",
        "\n",
        "Other important columns we'll make use of are:\n",
        "* `return`: if you bought a stock at time `t`, and sold it the next day at time `t+1`, what multiplier would your money be worth? Would you have made `1.2x` your money? `.9x` your money?\n",
        "* `label`: was the right move to buy or sell?  buy => 1, sell => 0. i.e. was `return` > 1?\n",
        "* `weight`: what percent on how money would you have made / lost if you bought? `weight = abs(return - 1))`. We will use this to weight our training process, so we penalize mistakes more or less depending on how much the stock moved after we bought/sold.  We do not currently support selling short or options, so the loss from selling when a stock goes up can be thought of as opportunity cost."
      ]
    },
    {
      "cell_type": "markdown",
      "metadata": {
        "id": "-HcfkhHPTNcu",
        "colab_type": "text"
      },
      "source": [
        "### Splitting into Train/Test\n",
        "\n",
        "#### The Problem with Splitting on Stocks\n",
        "In non-ML based approaches, \"backtesting an algorithm\" is simple.  You write the algorithm, run it on the past, and see how well it did. Using ML models, the notion of \"backtesting\" must become more flexible, because we do not want to test our models on data it has trained with for fear of poor future generalization.\n",
        "\n",
        "For example, if we trained on the entire history of the stocks `['AAPL', 'AMZN']` and tested on `['TSLA']`, we might be \"cheating\" ourselves, because when we get to the 2008 crash, we might have learned to detect it from `AAPL` and `AMZN`'s experiences in that time. Our algorithm might perform well on `TSLA`, but its evaluation would be inflated.  Because of this, splitting the data along different stocks can damage the integrity of the training/testing process.\n",
        "\n",
        "\\\n",
        "\n",
        "#### Window Splitting\n",
        "Instead, we split on \"windows\". You specify a start date for the testing window (or it will be chosen randomly), and a ratio (what proportion of the points should be training) and the algorithm will iterate through the dates until it has captured 20% of the total datapoints in the testing set. \n",
        "![alt text](https://drive.google.com/uc?export=view&id=1S7L9KK0MUHVPk4kTNZZO0iYr4SXmPfBO)\n",
        "A quick note: this may not be exactly 20% of the total time because stocks have different start and end points.  In the examples below, the training times may span much more than 80% because AAPL has a much longer history than TSLA, so if the testing times are concentrated in the period where all three stocks have datapoints, it will take fewer dates for it to reach 20% of the total datapoints."
      ]
    },
    {
      "cell_type": "code",
      "metadata": {
        "colab_type": "code",
        "outputId": "ba0446bd-aa47-436e-da2b-92d4b23912da",
        "id": "yvH1V6G0RAFx",
        "colab": {
          "base_uri": "https://localhost:8080/",
          "height": 33
        }
      },
      "source": [
        "df_train, df_test = split_dfs(dfs, start_date='1999-01-01', ratio=.8, quiet=False, concat=True) # concat = True returns a single df_train with all rows concatenated"
      ],
      "execution_count": 0,
      "outputs": [
        {
          "output_type": "stream",
          "text": [
            "Backtesting from 1999-01-01 to 2004-12-08\n"
          ],
          "name": "stdout"
        }
      ]
    },
    {
      "cell_type": "code",
      "metadata": {
        "id": "OAisGwmy0VMG",
        "colab_type": "code",
        "colab": {}
      },
      "source": [
        "# normalize the training set, use those params (mean and std for each column) to normalize df_test\n",
        "norm_params = normalize_df(df_train)\n",
        "normalize_dfs(df_test, norm_params)"
      ],
      "execution_count": 0,
      "outputs": []
    },
    {
      "cell_type": "code",
      "metadata": {
        "id": "qYyIQerB6BGb",
        "colab_type": "code",
        "colab": {}
      },
      "source": [
        "# weight mistakes differently for selling when you should have bought vs buying when you should have sold\n",
        "# bullish_scalar > 1 punishes mistakes that arise from not buying when you should have more heavily\n",
        "bullish_scalar = 1\n",
        "apply_scalars(bullish_scalar, dfs)"
      ],
      "execution_count": 0,
      "outputs": []
    },
    {
      "cell_type": "markdown",
      "metadata": {
        "id": "xLEO_ZuV0ATq",
        "colab_type": "text"
      },
      "source": [
        "## Part 3: Learning\n",
        "### Learning Setup\n",
        "Before we dive into creating our model, we need to know how we're going to evaluate it, both in the training portion and afterwards, so we can help it learn from mistakes and get an honest sense of how well it would perform in the wild.\n",
        "\n",
        "Here, we treat the problem as a classification problem, with the network outputting a probability distribution over how likely it thinks a given datapoint is to lead to buy (1) or sell (0).  We calculate loss using [cross entropy loss](https://www.tensorflow.org/api_docs/python/tf/keras/losses/SparseCategoricalCrossentropy) weighted by how much would have been gained, lost, or failed to have been gained on this trade (the `weight` column discussed above).  \n",
        "\n",
        "To process this learning, we staple the rows of df_train together and the rows of df_test together, completely losing track of which stock was which within our training and testing sets.  This raises an interesting question: how well would our algorithm have performed on the testing set if we had actually traded with it?  For that, we need to define how our algorithm will work.\n",
        "\n",
        "### The Trading Algorithm\n",
        "The algorithm, detailed in `model_file/predictions`, and used in the `performance` graph below works in three simple steps:\n",
        "1. **Turn datapoints into buy confidences**.  At timestep t, look at all stocks that have a datapoint there, (e.g. TSLA does not have a datapoint at 1984-12-04).  Run those datapoints through the model to get confidences in how much the model thinks we should buy this stock.  If `t` was a point where all three stocks had datapoints, we might end up with something like: \\\n",
        "[TSLA, AMZN, AAPL ] \\\n",
        "[.4,    .6,   .7 ] \\\n",
        "2. **Eliminate all buy confidences below a `threshold`**.  Looking at the above example, TSLA's buy confidence isn't very high, so we might say that we'd prefer it not to be considered at all.  This becomes particularly relevant if < k of the stocks have reasonable confidences.  Otherwise we would distribute money to stocks we had low confidence in. If we set `threshold=.5`, this becomes: \\\n",
        "[TSLA, AMZN, AAPL ] \\\n",
        "[0,    .6,   .7 ] \\\n",
        "3. **Distribute money based on the confidences of the top `k` stocks**. Now to distribute money, we simply take the top `k` remaining stocks (in this case, let's assume `k=2`, so we take both stocks), and weight the amount of money we give to each based on our buy confidences - e.g. AMZN would become .6/(.6+.7). When we evaluate, we will weight the return based on these weightings.\\\n",
        "[TSLA, AMZN, AAPL ] \\\n",
        "[0,    .46,   .54 ] \\\n",
        "\n",
        "This should return a number representing the average annual percent gain or loss of the strategy, assuming we reinvest our winnings.  For example, if our strategy earned 10% over 2 years and we reinvested winnings, we would have the equation `1 * x**2 = 1.10` ==> `x = 1.048` ==> 4.8% return per year.\n",
        "\n",
        "### Selecting the Features\n",
        "We use [regex](https://www.rexegg.com/regex-quickstart.html) to select the features (columns) from our dataframes to use in training and testing. For example, if we just wanted to use rsi values as an input, we could do that with the following regex and display the outputting dataframe:"
      ]
    },
    {
      "cell_type": "code",
      "metadata": {
        "id": "kh7pKnLJ8jim",
        "colab_type": "code",
        "outputId": "a630a532-e6a9-4aa0-82f0-802d06e7f5fd",
        "colab": {
          "base_uri": "https://localhost:8080/",
          "height": 160
        }
      },
      "source": [
        "df_train.filter(regex='^rsi').head(3)"
      ],
      "execution_count": 0,
      "outputs": [
        {
          "output_type": "execute_result",
          "data": {
            "text/html": [
              "<div>\n",
              "<style scoped>\n",
              "    .dataframe tbody tr th:only-of-type {\n",
              "        vertical-align: middle;\n",
              "    }\n",
              "\n",
              "    .dataframe tbody tr th {\n",
              "        vertical-align: top;\n",
              "    }\n",
              "\n",
              "    .dataframe thead th {\n",
              "        text-align: right;\n",
              "    }\n",
              "</style>\n",
              "<table border=\"1\" class=\"dataframe\">\n",
              "  <thead>\n",
              "    <tr style=\"text-align: right;\">\n",
              "      <th></th>\n",
              "      <th>rsi_12</th>\n",
              "      <th>rsi_14</th>\n",
              "      <th>rsi_20</th>\n",
              "      <th>rsi_4</th>\n",
              "      <th>rsi_5</th>\n",
              "      <th>rsi_50</th>\n",
              "      <th>rsi_6</th>\n",
              "      <th>rsi_8</th>\n",
              "    </tr>\n",
              "    <tr>\n",
              "      <th>date</th>\n",
              "      <th></th>\n",
              "      <th></th>\n",
              "      <th></th>\n",
              "      <th></th>\n",
              "      <th></th>\n",
              "      <th></th>\n",
              "      <th></th>\n",
              "      <th></th>\n",
              "    </tr>\n",
              "  </thead>\n",
              "  <tbody>\n",
              "    <tr>\n",
              "      <th>2010-09-09</th>\n",
              "      <td>0.208630</td>\n",
              "      <td>0.183025</td>\n",
              "      <td>0.165628</td>\n",
              "      <td>0.108506</td>\n",
              "      <td>0.208039</td>\n",
              "      <td>0.143491</td>\n",
              "      <td>0.258584</td>\n",
              "      <td>0.276159</td>\n",
              "    </tr>\n",
              "    <tr>\n",
              "      <th>2010-09-10</th>\n",
              "      <td>-0.169708</td>\n",
              "      <td>-0.138835</td>\n",
              "      <td>-0.053982</td>\n",
              "      <td>-0.729598</td>\n",
              "      <td>-0.547691</td>\n",
              "      <td>0.041188</td>\n",
              "      <td>-0.420482</td>\n",
              "      <td>-0.275104</td>\n",
              "    </tr>\n",
              "    <tr>\n",
              "      <th>2010-09-13</th>\n",
              "      <td>0.155405</td>\n",
              "      <td>0.139368</td>\n",
              "      <td>0.135451</td>\n",
              "      <td>0.132861</td>\n",
              "      <td>0.156382</td>\n",
              "      <td>0.130100</td>\n",
              "      <td>0.178835</td>\n",
              "      <td>0.193501</td>\n",
              "    </tr>\n",
              "  </tbody>\n",
              "</table>\n",
              "</div>"
            ],
            "text/plain": [
              "              rsi_12    rsi_14    rsi_20  ...    rsi_50     rsi_6     rsi_8\n",
              "date                                      ...                              \n",
              "2010-09-09  0.208630  0.183025  0.165628  ...  0.143491  0.258584  0.276159\n",
              "2010-09-10 -0.169708 -0.138835 -0.053982  ...  0.041188 -0.420482 -0.275104\n",
              "2010-09-13  0.155405  0.139368  0.135451  ...  0.130100  0.178835  0.193501\n",
              "\n",
              "[3 rows x 8 columns]"
            ]
          },
          "metadata": {
            "tags": []
          },
          "execution_count": 264
        }
      ]
    },
    {
      "cell_type": "markdown",
      "metadata": {
        "id": "uvLAeapt80gQ",
        "colab_type": "text"
      },
      "source": [
        "### Training"
      ]
    },
    {
      "cell_type": "markdown",
      "metadata": {
        "id": "e_BqPbOmOBUR",
        "colab_type": "text"
      },
      "source": [
        "Create parameters for training process."
      ]
    },
    {
      "cell_type": "code",
      "metadata": {
        "id": "Y968q4D_0UyN",
        "colab_type": "code",
        "colab": {}
      },
      "source": [
        "k = 3\n",
        "threshold= .5\n",
        "num_epochs = 11\n",
        "batch_size = 32\n",
        "\n",
        "regex = '^(rsi|ad|p_vol|per_b)'\n",
        "input_shape = len(df_train.filter(regex=regex).columns)\n",
        "model = tf.keras.Sequential([\n",
        "    tf.keras.layers.Dense(50, activation='elu', input_shape=(input_shape,)),\n",
        "    tf.keras.layers.Dropout(0.5),\n",
        "    tf.keras.layers.Dense(50, activation='elu'),\n",
        "    tf.keras.layers.Dropout(0.5),\n",
        "    tf.keras.layers.Dense(2, activation='softmax')\n",
        "])"
      ],
      "execution_count": 0,
      "outputs": []
    },
    {
      "cell_type": "code",
      "metadata": {
        "id": "8Dp8dTbc0UXP",
        "colab_type": "code",
        "outputId": "b51df163-b6d5-45e7-a2a4-21b41db73260",
        "colab": {
          "base_uri": "https://localhost:8080/",
          "height": 640
        }
      },
      "source": [
        "train(model, df_train, df_test, regex, checkpts_path, num_epochs=num_epochs, plot=True, batch_size=batch_size, k=k, threshold=threshold)"
      ],
      "execution_count": 0,
      "outputs": [
        {
          "output_type": "stream",
          "text": [
            "Saving epoch checkpoints to /content/drive/My Drive/daytrader_checkpts/checkpts/\n",
            "Epoch\tTrain Loss\tTrain Accuracy\tTest Loss\tTest Accuracy\tPerf Result\tETA (mins)\n",
            "0/11\t0.014\t\t52.098%\t\t0.022\t\t48.189%\t\t9.41\t\t0.00\n",
            "5/11\t0.014\t\t53.002%\t\t0.022\t\t51.053%\t\t19.94\t\t0.58\n",
            "10/11\t0.014\t\t53.040%\t\t0.022\t\t51.889%\t\t11.29\t\t0.17\n"
          ],
          "name": "stdout"
        },
        {
          "output_type": "display_data",
          "data": {
            "image/png": "[encoded data removed]",
            "text/plain": [
              "<Figure size 864x576 with 3 Axes>"
            ]
          },
          "metadata": {
            "tags": []
          }
        }
      ]
    },
    {
      "cell_type": "markdown",
      "metadata": {
        "id": "i01EBDkPKtW3",
        "colab_type": "text"
      },
      "source": [
        "The results above will be noisy due to the low number of epochs and small amount of data in this quickstart and unrealistically high because of the success of the stocks (even though this testing period spans the dot-com bubble).\n",
        "\n",
        "### Saving, Loading, and Evaluating\n",
        "Now that we have trained our model, we may want to load the model from a specific epoch and see its model performance with different values of k."
      ]
    },
    {
      "cell_type": "code",
      "metadata": {
        "id": "ZQLmapBsK6e_",
        "colab_type": "code",
        "outputId": "97570fca-fef3-4346-f91a-5d189c92dbcd",
        "colab": {
          "base_uri": "https://localhost:8080/",
          "height": 49
        }
      },
      "source": [
        "epoch = 5\n",
        "k = 2\n",
        "m = load_model(checkpts_path, epoch)\n",
        "model_perf(df_test, m, regex, k=k, threshold=threshold)"
      ],
      "execution_count": 0,
      "outputs": [
        {
          "output_type": "stream",
          "text": [
            "Loading model from /content/drive/My Drive/daytrader_checkpts/checkpts//5.h5\n"
          ],
          "name": "stdout"
        },
        {
          "output_type": "execute_result",
          "data": {
            "text/plain": [
              "19.939114380300115"
            ]
          },
          "metadata": {
            "tags": []
          },
          "execution_count": 267
        }
      ]
    },
    {
      "cell_type": "markdown",
      "metadata": {
        "id": "Ob2IzpJwOb4i",
        "colab_type": "text"
      },
      "source": [
        "Or respond to the cranky relative in all of us who asks \"yeah, but what if you just bought and held it over the same period?\""
      ]
    },
    {
      "cell_type": "code",
      "metadata": {
        "id": "yst5UT9COXf8",
        "colab_type": "code",
        "outputId": "b22974f0-f505-4d58-ddce-22884e6cd79b",
        "colab": {
          "base_uri": "https://localhost:8080/",
          "height": 33
        }
      },
      "source": [
        "model_perf(df_test, m, regex, k=k, threshold=threshold, just_buy=True)"
      ],
      "execution_count": 0,
      "outputs": [
        {
          "output_type": "execute_result",
          "data": {
            "text/plain": [
              "11.462589641301623"
            ]
          },
          "metadata": {
            "tags": []
          },
          "execution_count": 268
        }
      ]
    },
    {
      "cell_type": "markdown",
      "metadata": {
        "id": "y5XltIJrOkxC",
        "colab_type": "text"
      },
      "source": [
        "Or even \"but what if you just bought and held the S&P 500 and held that over the same period?\""
      ]
    },
    {
      "cell_type": "code",
      "metadata": {
        "id": "GJ0Bb-L_PsZq",
        "colab_type": "code",
        "outputId": "fdd0e5a9-f490-43fc-f219-30928fb13937",
        "colab": {
          "base_uri": "https://localhost:8080/",
          "height": 49
        }
      },
      "source": [
        "sp_perf(df_test, prices_path)"
      ],
      "execution_count": 0,
      "outputs": [
        {
          "output_type": "stream",
          "text": [
            "Loading GSPC dataframe\n"
          ],
          "name": "stdout"
        },
        {
          "output_type": "execute_result",
          "data": {
            "text/plain": [
              "-0.63"
            ]
          },
          "metadata": {
            "tags": []
          },
          "execution_count": 269
        }
      ]
    },
    {
      "cell_type": "markdown",
      "metadata": {
        "id": "FTSZovUcc88Y",
        "colab_type": "text"
      },
      "source": [
        "Or even better, the difference between your model's performance and the s&p's performance over the same period."
      ]
    },
    {
      "cell_type": "code",
      "metadata": {
        "id": "2IbA59YyONQ8",
        "colab_type": "code",
        "outputId": "19e8f417-91c5-4793-ea9d-2f57239b0b9f",
        "colab": {
          "base_uri": "https://localhost:8080/",
          "height": 33
        }
      },
      "source": [
        "model_perf(df_test, m, regex, k=k, threshold=threshold, minus_sp=True, prices_path=prices_path)"
      ],
      "execution_count": 0,
      "outputs": [
        {
          "output_type": "execute_result",
          "data": {
            "text/plain": [
              "20.57"
            ]
          },
          "metadata": {
            "tags": []
          },
          "execution_count": 270
        }
      ]
    },
    {
      "cell_type": "markdown",
      "metadata": {
        "id": "36n3uXy6MD53",
        "colab_type": "text"
      },
      "source": [
        "We may want to save the model."
      ]
    },
    {
      "cell_type": "code",
      "metadata": {
        "id": "0WBxjFi0MFvx",
        "colab_type": "code",
        "outputId": "ce0525ab-07af-4acd-d326-40e70da63b5e",
        "colab": {
          "base_uri": "https://localhost:8080/",
          "height": 33
        }
      },
      "source": [
        "model_filename = save_model(m, models_path, name=None) # if name==None, will name it one higher than the number of models in the dir"
      ],
      "execution_count": 0,
      "outputs": [
        {
          "output_type": "stream",
          "text": [
            "Saved model to /content/drive/My Drive/daytrader_checkpts/models//7.h5\n"
          ],
          "name": "stdout"
        }
      ]
    },
    {
      "cell_type": "markdown",
      "metadata": {
        "id": "f0JsZbJyN8i6",
        "colab_type": "text"
      },
      "source": [
        "And reload it."
      ]
    },
    {
      "cell_type": "code",
      "metadata": {
        "id": "a0YZOgUfMyrV",
        "colab_type": "code",
        "outputId": "4b5c1297-eefc-485f-b6df-70973d54ea62",
        "colab": {
          "base_uri": "https://localhost:8080/",
          "height": 33
        }
      },
      "source": [
        "m = load_model(model_filename, None) # if pass in None as model name, will assume path given is a full filename"
      ],
      "execution_count": 0,
      "outputs": [
        {
          "output_type": "stream",
          "text": [
            "Loading model from /content/drive/My Drive/daytrader_checkpts/models//7.h5\n"
          ],
          "name": "stdout"
        }
      ]
    },
    {
      "cell_type": "markdown",
      "metadata": {
        "id": "QWezcSWGBBWq",
        "colab_type": "text"
      },
      "source": [
        "### Predicting Today\n",
        "Once you've finished backtesting, you'll probably want to test the algorithm out on day to day trading.  Due to legal restrictions, we use the [\"Huge Stock Market Dataset\"](https://www.kaggle.com/borismarjanovic/price-volume-data-for-all-us-stocks-etfs/) here instead of scraped data.  Using this dataset, we can get the predictions for \"today\" (in 2017) from the dataset."
      ]
    },
    {
      "cell_type": "code",
      "metadata": {
        "id": "MJHVu1W3h1CJ",
        "colab_type": "code",
        "outputId": "c259a2cc-2e83-48bd-95d5-8c87653abe1d",
        "colab": {
          "base_uri": "https://localhost:8080/",
          "height": 214
        }
      },
      "source": [
        "preds = get_today_preds(model, indicators_path, periods, sym_subset, norm_params, regex, k, threshold, bullish_scalar)\n",
        "[elt for elt in preds]"
      ],
      "execution_count": 0,
      "outputs": [
        {
          "output_type": "stream",
          "text": [
            "\n",
            "Loading indicator dataframes...\n",
            "3/3 [==============================] - 0s 126ms/step\n",
            "\n",
            "\n",
            "Predictions for 2017-11-10\n",
            "---------------------------\n",
            "Stock\tProportion of Funds\n",
            "TSLA\t0.0\n",
            "AMZN\t0.493\n",
            "AAPL\t0.507\n"
          ],
          "name": "stdout"
        },
        {
          "output_type": "execute_result",
          "data": {
            "text/plain": [
              "[('TSLA', 0.0), ('AMZN', 0.49274373932807514), ('AAPL', 0.5072562606719249)]"
            ]
          },
          "metadata": {
            "tags": []
          },
          "execution_count": 294
        }
      ]
    },
    {
      "cell_type": "markdown",
      "metadata": {
        "id": "uHhQljhl_309",
        "colab_type": "text"
      },
      "source": [
        "### Updating your Indicators and Prices\n",
        "Unfortunately, most sites and APIs that give daily price data have \"do not redistribute\" clauses that prevent us from sharing the most up to date prices or even code to scrape them with you.  But if you can find a way to download or scrape the most up to date prices yourself, you can make use of the function (reproduced below, but included in `data_loader.py` and available to call here) to update your prices and indicators.  You may need to create a copy of the `daytrader` folder, which you will access as read-only.\n",
        "\n",
        " \n",
        "\n",
        "**def update(new_prices_path, old_prices_path, indicators_path, periods, sym_subset=[], col_mapping=None, download_prices=None)**\n",
        "\n",
        "Inputs:\n",
        "* `new_prices_path`: where the new prices are stored.  You can store full price files here or just partials (with newer dates only, for example)\n",
        "* `old_prices_path`: this will be overwritten with the updated prices from `new_prices_path`\n",
        "* `indicators_path`\n",
        "* `periods`: unless you have calculated your own indicators folder, this will be as it was above\n",
        "* `sym_subset`\n",
        "* `col_mapping`: the prices files you reference in `new_prices_path` must have columns `[date,open,high,low,close,volume]`.  If those columns are named differently in the files you've downloaded, use `col_mapping` to map from the name you have to the corresponding name.  e.g. if everything else is the same, but your `date` column is named `Times`, pass in `col_mapping={'Times': 'date'}`\n",
        "\n",
        "Effects:\n",
        "* modifies `old_prices` to be updated from `new_prices`\n",
        "* updates all of `sym_subset` in `indicators_path` (this may take a while)\n",
        "* returns updated `dfs`\n"
      ]
    },
    {
      "cell_type": "code",
      "metadata": {
        "id": "lWBkelNHApUu",
        "colab_type": "code",
        "colab": {}
      },
      "source": [
        "# def update(new_prices_path, old_prices_path, indicators_path, periods, sym_subset=[], col_mapping=None, download_prices=None):\n",
        "#     ''' Update, return all indicators'''\n",
        "#     remove_icon_files(old_prices_path)\n",
        "#     sym_subset = update_sym_subset(old_prices_path, sym_subset)\n",
        "#     if download_prices is not None:\n",
        "#         download_prices(new_prices_path, old_prices_path, sym_subset=sym_subset)\n",
        "#     update_prices(new_prices_path, old_prices_path, sym_subset=sym_subset, col_mapping=col_mapping)\n",
        "#     update_indicators(old_prices_path, indicators_path, periods, sym_subset=sym_subset, first_write=False)\n",
        "#     dfs = load_indicators(indicators_path, periods, sym_subset=sym_subset)\n",
        "#     for df in dfs:\n",
        "#         assert len(check_for_nans(df)) == 0, 'There is a nan in one of your dataframes.  Something went wrong with the update.'\n",
        "#     return dfs"
      ],
      "execution_count": 0,
      "outputs": []
    }
  ]
}